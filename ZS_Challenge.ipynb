{
  "nbformat": 4,
  "nbformat_minor": 0,
  "metadata": {
    "colab": {
      "name": "ZS_Challenge",
      "version": "0.3.2",
      "provenance": [],
      "collapsed_sections": [
        "_j9FUmt-_l8O",
        "PkCkOR5E_yQS",
        "slfVpmO4aydp",
        "_CPIPKcpfLyB",
        "QAPXJh35QqHt",
        "8mI1Psk9sxHB"
      ]
    },
    "kernelspec": {
      "name": "python2",
      "display_name": "Python 2"
    },
    "accelerator": "GPU"
  },
  "cells": [
    {
      "metadata": {
        "id": "_j9FUmt-_l8O",
        "colab_type": "text"
      },
      "cell_type": "markdown",
      "source": [
        "## To - Do"
      ]
    },
    {
      "metadata": {
        "id": "PkCkOR5E_yQS",
        "colab_type": "text"
      },
      "cell_type": "markdown",
      "source": [
        "\n",
        "\n",
        "---\n",
        "\n",
        "\n",
        "## Code:\n",
        "### *   Create Predict script\n",
        "### *   Integrate holidays andd marketing expense data\n",
        "### *   implement K-Fold Cross validation\n",
        "### *   Optimize\n",
        "\n",
        "---\n",
        "\n",
        "\n",
        "## * Documentation:\n",
        "### * Create description file with reasons for the decisions made and code description\n",
        "### * Compile code into files \n",
        "\n",
        "\n",
        "\n",
        "\n",
        "---\n",
        "\n"
      ]
    },
    {
      "metadata": {
        "id": "slfVpmO4aydp",
        "colab_type": "text"
      },
      "cell_type": "markdown",
      "source": [
        "# Mount Google Drive"
      ]
    },
    {
      "metadata": {
        "id": "hIuV1AZW5mJV",
        "colab_type": "code",
        "colab": {}
      },
      "cell_type": "code",
      "source": [
        "# Install a Drive FUSE wrapper.\n",
        "# https://github.com/astrada/google-drive-ocamlfuse\n",
        "!apt-get install -y -qq software-properties-common python-software-properties module-init-tools\n",
        "!add-apt-repository -y ppa:alessandro-strada/ppa 2>&1 > /dev/null\n",
        "!apt-get update -qq 2>&1 > /dev/null\n",
        "!apt-get -y install -qq google-drive-ocamlfuse fuse\n",
        "\n",
        "\n",
        "# Generate auth tokens for Colab\n",
        "from google.colab import auth\n",
        "auth.authenticate_user()\n",
        "\n",
        "# Generate creds for the Drive FUSE library.\n",
        "from oauth2client.client import GoogleCredentials\n",
        "creds = GoogleCredentials.get_application_default()\n",
        "import getpass\n",
        "!google-drive-ocamlfuse -headless -id={creds.client_id} -secret={creds.client_secret} < /dev/null 2>&1 | grep URL\n",
        "vcode = getpass.getpass()\n",
        "!echo {vcode} | google-drive-ocamlfuse -headless -id={creds.client_id} -secret={creds.client_secret}"
      ],
      "execution_count": 0,
      "outputs": []
    },
    {
      "metadata": {
        "id": "7IYSpXbGaONu",
        "colab_type": "code",
        "colab": {}
      },
      "cell_type": "code",
      "source": [
        "# Create a directory and mount Google Drive using that directory.\n",
        "!mkdir -p drive\n",
        "!google-drive-ocamlfuse drive"
      ],
      "execution_count": 0,
      "outputs": []
    },
    {
      "metadata": {
        "id": "aQCE30zabWaX",
        "colab_type": "code",
        "outputId": "f2bb06c2-d745-4538-ceef-784156278aa2",
        "colab": {
          "base_uri": "https://localhost:8080/",
          "height": 170
        }
      },
      "cell_type": "code",
      "source": [
        "#Check if it is mounted\n",
        "#!ls /content/drive\n",
        "!echo \"Working Directory: \" \"$(pwd)\"\n",
        "!echo \"Contents of default folder: \" \n",
        "!ls\n",
        "!echo \"Contents of Python folder: \" \n",
        "!ls /content/drive/Python"
      ],
      "execution_count": 0,
      "outputs": [
        {
          "output_type": "stream",
          "text": [
            "Working Directory:  /content\n",
            "Contents of default folder: \n",
            "adc.json  drive  sample_data\n",
            "Contents of Python folder: \n",
            "agg_after_dropnan.csv\tholidays.csv\t\t sample_submission.csv\n",
            "agg_before_dropnan.csv\tholidays.xlsx\t\t train.csv\n",
            "agg.csv\t\t\tpollution.csv\t\t yds_test2018.csv\n",
            "air_pollution.csv\tpromotional_expense.csv  yds_train2018.csv\n",
            "dataset\t\t\treframed.csv\n"
          ],
          "name": "stdout"
        }
      ]
    },
    {
      "metadata": {
        "id": "KQ3Iuomdyl_x",
        "colab_type": "code",
        "outputId": "589bab11-323e-48f5-c54a-658108732eb6",
        "colab": {
          "base_uri": "https://localhost:8080/",
          "height": 70
        }
      },
      "cell_type": "code",
      "source": [
        "!pip install xlrd # needed for read+excel to work"
      ],
      "execution_count": 0,
      "outputs": [
        {
          "output_type": "stream",
          "text": [
            "Requirement already satisfied: xlrd in /usr/local/lib/python2.7/dist-packages (1.1.0)\n",
            "\u001b[33mYou are using pip version 10.0.1, however version 18.0 is available.\n",
            "You should consider upgrading via the 'pip install --upgrade pip' command.\u001b[0m\n"
          ],
          "name": "stdout"
        }
      ]
    },
    {
      "metadata": {
        "id": "xOVkP2kDb1DT",
        "colab_type": "text"
      },
      "cell_type": "markdown",
      "source": [
        "# CODE"
      ]
    },
    {
      "metadata": {
        "id": "UfEYW0J0cQS4",
        "colab_type": "text"
      },
      "cell_type": "markdown",
      "source": [
        "## Basic Imports"
      ]
    },
    {
      "metadata": {
        "id": "T10ZvHvX5xu9",
        "colab_type": "code",
        "colab": {}
      },
      "cell_type": "code",
      "source": [
        "from math import sqrt\n",
        "from numpy import ceil\n",
        "from numpy import array\n",
        "from numpy import concatenate\n",
        "from numpy import split\n",
        "from matplotlib import pyplot\n",
        "from pandas import to_numeric\n",
        "from pandas import read_csv\n",
        "from pandas import read_excel\n",
        "from pandas import get_dummies\n",
        "from pandas import DataFrame\n",
        "from pandas import Series\n",
        "from pandas import concat\n",
        "from sklearn.preprocessing import MinMaxScaler\n",
        "\n",
        "from sklearn.preprocessing import LabelEncoder\n",
        "from sklearn.metrics import mean_squared_error\n",
        "from keras.layers.core import Activation, Dropout\n",
        "from keras.models import Sequential\n",
        "from keras.layers import Dense\n",
        "from keras.layers import LSTM\n",
        "from keras.optimizers import SGD\n",
        "from keras.callbacks import ProgbarLogger, EarlyStopping, ModelCheckpoint, TensorBoard\n"
      ],
      "execution_count": 0,
      "outputs": []
    },
    {
      "metadata": {
        "id": "8y8yT5RSceYg",
        "colab_type": "text"
      },
      "cell_type": "markdown",
      "source": [
        "## Compile data into simple data sources"
      ]
    },
    {
      "metadata": {
        "id": "_CPIPKcpfLyB",
        "colab_type": "text"
      },
      "cell_type": "markdown",
      "source": [
        "### Compile  training data"
      ]
    },
    {
      "metadata": {
        "id": "PVDCM89vfIjR",
        "colab_type": "code",
        "colab": {}
      },
      "cell_type": "code",
      "source": [
        "#Import data from a excel file\n",
        "train_dataset = read_csv('/content/drive/Python/yds_train2018.csv', header=0, index_col=0)\n",
        "\n",
        "#Delete Unnecessary columns\n",
        "del train_dataset['Merchant_ID']\n",
        "del train_dataset['Week']\n",
        "\n",
        "# Group by and sum sales\n",
        "train_dataset =  train_dataset.groupby(['Year','Month','Product_ID','Country']).sum().reset_index()\n",
        "\n",
        "# Convert to one hot vector\n",
        "train_dataset= get_dummies(train_dataset, columns=[\"Country\"], prefix=[None])\n",
        "\n",
        "train_dataset = train_dataset[['Year','Month','Product_ID', 'Argentina', 'Belgium','Columbia', 'Denmark', 'England', 'Finland', 'Sales']]\n",
        "train_dataset.sort_values(['Year','Month','Product_ID', ]) #\n",
        "\n",
        "train_dataset.to_csv('/content/drive/Python/train.csv')\n",
        "\n",
        "\n",
        "\n",
        "#!ls /content/drive/Python"
      ],
      "execution_count": 0,
      "outputs": []
    },
    {
      "metadata": {
        "id": "QAPXJh35QqHt",
        "colab_type": "text"
      },
      "cell_type": "markdown",
      "source": [
        "### Compile Prediction Data"
      ]
    },
    {
      "metadata": {
        "id": "dZl8NN8KQo8C",
        "colab_type": "code",
        "outputId": "7da788fd-20a9-4558-b6d8-bdb4d4478874",
        "colab": {
          "base_uri": "https://localhost:8080/",
          "height": 141
        }
      },
      "cell_type": "code",
      "source": [
        "#Import data from a excel file\n",
        "test_dataset = read_csv('/content/drive/Python/yds_test2018.csv', header=0, index_col=0)\n",
        "\n",
        "test_dataset['Sales'] =float(0)\n",
        "#Convert to one hot vector encoding for countries.\n",
        "test_dataset=get_dummies(test_dataset, columns=[\"Country\"], prefix=[None])\n",
        "\n",
        "test_dataset = test_dataset[['Year','Month','Product_ID','Argentina','Belgium','Columbia', 'Denmark', 'England', 'Finland' , 'Sales']]   ###change this\n",
        "\n",
        "#print test_dataset.columns\n",
        "#print test_dataset.dtypes\n",
        "test_dataset.to_csv('/content/drive/Python/predict.csv')\n",
        "\n",
        "!ls /content/drive/Python"
      ],
      "execution_count": 0,
      "outputs": [
        {
          "output_type": "stream",
          "text": [
            "Country_Argentina_train.csv  holidays.xlsx\t      temp.ods\r\n",
            "Country_Belgium_train.csv    Models\t\t      temp.ods (f57205fa)\r\n",
            "Country_Columbia_train.csv   predict.csv\t      test.csv\r\n",
            "Country_Denmark_train.csv    predict.ods\t      train.csv\r\n",
            "Country_England_train.csv    promotional_expense.csv  yds_test2018.csv\r\n",
            "Country_Finland_train.csv    sample_submission.csv    yds_train2018.csv\r\n",
            "holidays.csv\t\t     temp.csv\t\t      ZS_Challenge\r\n"
          ],
          "name": "stdout"
        }
      ]
    },
    {
      "metadata": {
        "id": "8mI1Psk9sxHB",
        "colab_type": "text"
      },
      "cell_type": "markdown",
      "source": [
        "### Compile_holidays_data"
      ]
    },
    {
      "metadata": {
        "id": "gxP52c9UswBy",
        "colab_type": "code",
        "colab": {}
      },
      "cell_type": "code",
      "source": [
        "#convert given data into mapping from \\(Country_id,year,month) --->\\(number of holidays)\n",
        "    \n",
        "#Import data from a excel file\n",
        "hdata = read_excel('/content/drive/Python/holidays.xlsx',sheet_name=0,header=0)\n",
        "\n",
        "#Split the date column into 3 columns\n",
        "hdata['Date'] = hdata['Date'].str.split(', ')\n",
        "date_cols = hdata['Date'].apply(Series)\n",
        "\n",
        "#remove redundant columns\n",
        "del hdata['Date']\n",
        "del hdata['Holiday']\n",
        "#del date_cols[2]\n",
        "\n",
        "# rename each resultant variable with column name\n",
        "c = ['Year', 'Month','Week']\n",
        "date_cols = date_cols.rename(columns = lambda i : c[i])\n",
        "\n",
        "#concatenate the new columns\n",
        "hdata = concat([hdata[:], date_cols[:]], axis=1)\n",
        " \n",
        "#Convert year and month column data types to uint16\n",
        "hdata['Year'] = hdata['Year'].astype('uint16')\n",
        "hdata['Month'] = hdata['Month'].astype('uint16')\n",
        "hdata['Week'] = (hdata['Week'].astype('uint16') /7).apply(ceil)\n",
        "\n",
        "\n",
        "\n",
        "#Group by year month and country for number of holidays in each month,year of a country\n",
        "hdata = hdata.groupby(['Year','Month','Week','Country']).size().reset_index(name='Holidays')\n",
        "\n",
        "#Convert to one hot vector encoding for countries.\n",
        "hdata=get_dummies(hdata, columns=[\"Country\"], prefix=[None])\n",
        "\n",
        "#print hdata\n",
        "\n",
        "#print hdata.dtypes\n",
        "hdata.to_csv('/content/drive/Python/holidays.csv')"
      ],
      "execution_count": 0,
      "outputs": []
    },
    {
      "metadata": {
        "id": "NUv1ZJ9GD_OR",
        "colab_type": "code",
        "outputId": "31731b43-d33c-4980-c497-4ee19b84a00d",
        "colab": {
          "base_uri": "https://localhost:8080/",
          "height": 87
        }
      },
      "cell_type": "code",
      "source": [
        "!ls drive/Python"
      ],
      "execution_count": 0,
      "outputs": [
        {
          "output_type": "stream",
          "text": [
            "holidays.csv   predict.ods\t\ttemp.ods\t     train.ods\r\n",
            "holidays.xlsx  promotional_expense.csv\ttemp.ods (f57205fa)  yds_test2018.csv\r\n",
            "Models\t       sample_submission.csv\ttest.csv\t     yds_train2018.csv\r\n",
            "predict.csv    temp.csv\t\t\ttrain.csv\t     ZS_Challenge\r\n"
          ],
          "name": "stdout"
        }
      ]
    },
    {
      "metadata": {
        "id": "mvY0I3MZcoxl",
        "colab_type": "text"
      },
      "cell_type": "markdown",
      "source": [
        "## Fit Model"
      ]
    },
    {
      "metadata": {
        "id": "pYNZckC6iKUX",
        "colab_type": "text"
      },
      "cell_type": "markdown",
      "source": [
        "### Data Prepartaion Training & Test "
      ]
    },
    {
      "metadata": {
        "id": "JelAx0VJrrmh",
        "colab_type": "code",
        "outputId": "a1cdad22-09db-4e5a-886a-d66ca2f0ad6a",
        "colab": {
          "base_uri": "https://localhost:8080/",
          "height": 70
        }
      },
      "cell_type": "code",
      "source": [
        "#--------------------------- Common variables --------------------------------------------\n",
        "input_time_step = 5\n",
        "forecast_time_step = 1\n",
        "\n",
        "#---------------------------- Import & transform data ----------------------------\n",
        "train_data = read_csv('/content/drive/Python/train.csv', header=0, index_col=0)\n",
        "train_values = train_data.values\n",
        "train_values = train_values.astype('float32')\n",
        "scaler = MinMaxScaler(feature_range=(0, 1))\n",
        "train_values = scaler.fit_transform(train_values)\n",
        "\n",
        "train_df_x = DataFrame(train_values[:,:-1])\n",
        "train_df_y = DataFrame(train_values[:,-1])\n",
        "\n",
        "\n",
        "predict_head_x = DataFrame(train_df_x.values[-input_time_step:,:])\n",
        "predict_head_y = DataFrame(train_df_y.values[-input_time_step:,:])\n",
        "print df_x.shape\n",
        "\n",
        "n_features =  train_df_x.shape[1]  #target variable is also included\n",
        "in_arr = []\n",
        "out_arr = []\n",
        "\n",
        "for i in range(input_time_step, 0, -1):\n",
        "    in_arr.append(train_df_x.shift(i))\n",
        "    out_arr.append(train_df_y.shift(i))\n",
        "for i in range(0, forecast_time_step):\n",
        "    in_arr.append(train_df_x.shift(-i))\n",
        "    out_arr.append(train_df_y.shift(-i))\n",
        "\n",
        "train_df_x = concat(in_arr, axis=1)\n",
        "train_df_x = train_df_x.dropna()\n",
        "train_df_y = concat(out_arr, axis=1)\n",
        "train_df_y = train_df_y.dropna()\n",
        "\n",
        "in_arr = train_df_x.values.reshape((train_df_x.shape[0], input_time_step+1, n_features))\n",
        "out_arr = train_df_y.values.reshape((train_df_y.shape[0], train_df_y.shape[1]))\n",
        "\n",
        "# ------------ Split train and test data\n",
        "train_in_arr, test_in_arr = split(in_arr, [int(.8*len(in_arr))])\n",
        "train_out_arr, test_out_arr = split(out_arr, [int(.8*len(out_arr))])\n",
        "\n",
        "#------------------------------------------ Predict---------------------------------------------\n",
        "predict_data = read_csv('/content/drive/Python/predict.csv', header=0, index_col=0)\n",
        "predict_values = predict_data.values\n",
        "predict_values = predict_values.astype('float32')\n",
        "predict_values = scaler.fit_transform(predict_values)\n",
        "\n",
        "\n",
        "predict_n_features =  predict_values.shape[1] -1 # the variable to be predicted is also included here\n",
        "\n",
        "\n",
        "predict_df_x = DataFrame(predict_values[:,:-1])\n",
        "predict_df_y = DataFrame(predict_values[:,-1])\n",
        "\n",
        "predict_df_x = concat([predict_head_x, predict_df_x])\n",
        "predict_df_y = concat([predict_head_y, predict_df_y])\n",
        "\n",
        "predict_df_x.to_csv('drive/Python/predict_df_x.csv')\n",
        "predict_df_y.to_csv('drive/Python/predict_df_y.csv')                  \n",
        "\n",
        "predict_in_arr = []\n",
        "predict_out_arr = []\n",
        "\n",
        "for i in range(input_time_step, 0, -1):\n",
        "    predict_in_arr.append(predict_df_x.shift(i))\n",
        "    predict_out_arr.append(predict_df_y.shift(i))\n",
        "for i in range(0, forecast_time_step):\n",
        "    predict_in_arr.append(predict_df_x.shift(-i))\n",
        "    predict_out_arr.append(predict_df_y.shift(-i))\n",
        "\n",
        "\n",
        "predict_df_x = concat(predict_in_arr, axis=1)\n",
        "predict_df_x = predict_df_x.dropna()\n",
        "predict_df_y = concat(predict_out_arr, axis=1)\n",
        "predict_df_y = predict_df_y.dropna()\n",
        "\n",
        "\n",
        "predict_in_arr = predict_df_x.values.reshape((predict_df_x.shape[0], input_time_step+1, predict_n_features))\n",
        "predict_out_arr = predict_df_y.values.reshape((predict_df_y.shape[0], predict_df_y.shape[1]))\n",
        "\n",
        "print type(predict_in_arr), type(predict_out_arr)\n",
        "print predict_in_arr.shape, predict_out_arr.shape\n"
      ],
      "execution_count": 0,
      "outputs": [
        {
          "output_type": "stream",
          "text": [
            "(383, 54)\n",
            "<type 'numpy.ndarray'> <type 'numpy.ndarray'>\n",
            "(105, 6, 9) (105, 6)\n"
          ],
          "name": "stdout"
        }
      ]
    },
    {
      "metadata": {
        "id": "GnBk1CrUasxb",
        "colab_type": "text"
      },
      "cell_type": "markdown",
      "source": [
        ""
      ]
    },
    {
      "metadata": {
        "id": "pIE84uRDc2M5",
        "colab_type": "text"
      },
      "cell_type": "markdown",
      "source": [
        "### Design Network & Fit Model"
      ]
    },
    {
      "metadata": {
        "id": "-lJ-fkXzlgqL",
        "colab_type": "code",
        "outputId": "0c11ba5c-8c70-4f59-db9d-8833962626f1",
        "colab": {
          "base_uri": "https://localhost:8080/",
          "height": 8125
        }
      },
      "cell_type": "code",
      "source": [
        "# design network\n",
        "model = Sequential()\n",
        "model.add(LSTM(64, input_shape=(input_time_step+1,n_features ), dropout=0.25, recurrent_dropout=0.2, return_sequences =True))\n",
        "model.add(LSTM(32, dropout=0.25, recurrent_dropout=0.2))\n",
        "'''model.add(LSTM(32, dropout=0.25, recurrent_dropout=0.2, return_sequences=True))\n",
        "model.add(LSTM(16, dropout=0.25, recurrent_dropout=0.2, return_sequences=True))\n",
        "model.add(LSTM(8, dropout=0.25, recurrent_dropout=0.2))'''\n",
        "model.add(Dense(input_time_step+1))\n",
        "model.compile(optimizer='adam', loss='mse', metrics=['accuracy'])  #SGD(lr=0.008, decay=1e-6, momentum=0.9, nesterov=True)\n",
        "model.summary()\n",
        "\n",
        "# Save the model according to the conditions  \n",
        "progbar = ProgbarLogger(count_mode='steps')\n",
        "checkpoint = ModelCheckpoint(\"/content/drive/Python/Models/forecast_{epoch:02d}.hdf5\", monitor='val_loss', verbose=1, save_best_only=False, save_weights_only=False, mode='auto', period=10)\n",
        "early = EarlyStopping(monitor='val_acc', min_delta=0, patience=1, verbose=1, mode='auto')\n",
        "\n",
        "\n",
        "\n",
        "history = model.fit(train_in_arr, train_out_arr, epochs=200, batch_size = 72,callbacks=[checkpoint], validation_data=(test_in_arr, test_out_arr),verbose=2, shuffle=False)\n",
        "'''\n",
        "for i in range(len(Output_array)):\n",
        "    #print 'Train_input', Input_array[i][0].shape\n",
        "    #print  'Train_output', Output_array[i][0].shape\n",
        "    history = model.fit(Input_array[i][0], Output_array[i][0], epochs=50, batch_size = 16,callbacks=[checkpoint], validation_data=(Input_array[i][1], Output_array[i][1]),verbose=2, shuffle=False)\n",
        "'''\n"
      ],
      "execution_count": 0,
      "outputs": [
        {
          "output_type": "stream",
          "text": [
            "_________________________________________________________________\n",
            "Layer (type)                 Output Shape              Param #   \n",
            "=================================================================\n",
            "lstm_127 (LSTM)              (None, 6, 64)             18944     \n",
            "_________________________________________________________________\n",
            "lstm_128 (LSTM)              (None, 32)                12416     \n",
            "_________________________________________________________________\n",
            "dense_61 (Dense)             (None, 6)                 198       \n",
            "=================================================================\n",
            "Total params: 31,558\n",
            "Trainable params: 31,558\n",
            "Non-trainable params: 0\n",
            "_________________________________________________________________\n",
            "Train on 306 samples, validate on 77 samples\n",
            "Epoch 1/200\n",
            " - 18s - loss: 0.0448 - acc: 0.2124 - val_loss: 0.0669 - val_acc: 0.2208\n",
            "Epoch 2/200\n",
            " - 0s - loss: 0.0376 - acc: 0.2190 - val_loss: 0.0606 - val_acc: 0.2597\n",
            "Epoch 3/200\n",
            " - 0s - loss: 0.0349 - acc: 0.2582 - val_loss: 0.0584 - val_acc: 0.1948\n",
            "Epoch 4/200\n",
            " - 0s - loss: 0.0340 - acc: 0.2386 - val_loss: 0.0578 - val_acc: 0.1818\n",
            "Epoch 5/200\n",
            " - 0s - loss: 0.0337 - acc: 0.2582 - val_loss: 0.0572 - val_acc: 0.2727\n",
            "Epoch 6/200\n",
            " - 0s - loss: 0.0326 - acc: 0.2876 - val_loss: 0.0566 - val_acc: 0.2468\n",
            "Epoch 7/200\n",
            " - 0s - loss: 0.0324 - acc: 0.2810 - val_loss: 0.0562 - val_acc: 0.2338\n",
            "Epoch 8/200\n",
            " - 0s - loss: 0.0321 - acc: 0.3235 - val_loss: 0.0559 - val_acc: 0.1948\n",
            "Epoch 9/200\n",
            " - 0s - loss: 0.0319 - acc: 0.2745 - val_loss: 0.0554 - val_acc: 0.2078\n",
            "Epoch 10/200\n",
            " - 0s - loss: 0.0317 - acc: 0.2941 - val_loss: 0.0549 - val_acc: 0.2468\n",
            "\n",
            "Epoch 00010: saving model to /content/drive/Python/Models/forecast_10.hdf5\n",
            "Epoch 11/200\n",
            " - 0s - loss: 0.0305 - acc: 0.3464 - val_loss: 0.0542 - val_acc: 0.2468\n",
            "Epoch 12/200\n",
            " - 0s - loss: 0.0305 - acc: 0.3758 - val_loss: 0.0537 - val_acc: 0.2857\n",
            "Epoch 13/200\n",
            " - 0s - loss: 0.0313 - acc: 0.3039 - val_loss: 0.0531 - val_acc: 0.2857\n",
            "Epoch 14/200\n",
            " - 0s - loss: 0.0303 - acc: 0.3660 - val_loss: 0.0523 - val_acc: 0.2727\n",
            "Epoch 15/200\n",
            " - 0s - loss: 0.0295 - acc: 0.3725 - val_loss: 0.0518 - val_acc: 0.2597\n",
            "Epoch 16/200\n",
            " - 0s - loss: 0.0292 - acc: 0.3725 - val_loss: 0.0511 - val_acc: 0.3247\n",
            "Epoch 17/200\n",
            " - 0s - loss: 0.0290 - acc: 0.3791 - val_loss: 0.0502 - val_acc: 0.4416\n",
            "Epoch 18/200\n",
            " - 0s - loss: 0.0292 - acc: 0.3333 - val_loss: 0.0495 - val_acc: 0.3896\n",
            "Epoch 19/200\n",
            " - 0s - loss: 0.0289 - acc: 0.4150 - val_loss: 0.0489 - val_acc: 0.3636\n",
            "Epoch 20/200\n",
            " - 0s - loss: 0.0289 - acc: 0.3562 - val_loss: 0.0479 - val_acc: 0.3896\n",
            "\n",
            "Epoch 00020: saving model to /content/drive/Python/Models/forecast_20.hdf5\n",
            "Epoch 21/200\n",
            " - 0s - loss: 0.0295 - acc: 0.3725 - val_loss: 0.0472 - val_acc: 0.4416\n",
            "Epoch 22/200\n",
            " - 0s - loss: 0.0283 - acc: 0.3922 - val_loss: 0.0467 - val_acc: 0.5065\n",
            "Epoch 23/200\n",
            " - 0s - loss: 0.0278 - acc: 0.4248 - val_loss: 0.0466 - val_acc: 0.4286\n",
            "Epoch 24/200\n",
            " - 0s - loss: 0.0278 - acc: 0.4314 - val_loss: 0.0464 - val_acc: 0.3766\n",
            "Epoch 25/200\n",
            " - 0s - loss: 0.0277 - acc: 0.4346 - val_loss: 0.0461 - val_acc: 0.3766\n"
          ],
          "name": "stdout"
        },
        {
          "output_type": "stream",
          "text": [
            "Epoch 26/200\n",
            " - 0s - loss: 0.0272 - acc: 0.4183 - val_loss: 0.0452 - val_acc: 0.4675\n",
            "Epoch 27/200\n",
            " - 0s - loss: 0.0271 - acc: 0.4183 - val_loss: 0.0451 - val_acc: 0.4416\n",
            "Epoch 28/200\n",
            " - 0s - loss: 0.0268 - acc: 0.4477 - val_loss: 0.0447 - val_acc: 0.4805\n",
            "Epoch 29/200\n",
            " - 0s - loss: 0.0264 - acc: 0.4346 - val_loss: 0.0439 - val_acc: 0.4935\n",
            "Epoch 30/200\n",
            " - 0s - loss: 0.0262 - acc: 0.4444 - val_loss: 0.0429 - val_acc: 0.5065\n",
            "\n",
            "Epoch 00030: saving model to /content/drive/Python/Models/forecast_30.hdf5\n",
            "Epoch 31/200\n",
            " - 0s - loss: 0.0267 - acc: 0.4248 - val_loss: 0.0424 - val_acc: 0.4935\n",
            "Epoch 32/200\n",
            " - 0s - loss: 0.0253 - acc: 0.4412 - val_loss: 0.0422 - val_acc: 0.4805\n",
            "Epoch 33/200\n",
            " - 0s - loss: 0.0260 - acc: 0.4542 - val_loss: 0.0416 - val_acc: 0.4805\n",
            "Epoch 34/200\n",
            " - 0s - loss: 0.0256 - acc: 0.4412 - val_loss: 0.0408 - val_acc: 0.4416\n",
            "Epoch 35/200\n",
            " - 0s - loss: 0.0258 - acc: 0.4379 - val_loss: 0.0400 - val_acc: 0.4545\n",
            "Epoch 36/200\n",
            " - 0s - loss: 0.0252 - acc: 0.4706 - val_loss: 0.0397 - val_acc: 0.4935\n",
            "Epoch 37/200\n",
            " - 0s - loss: 0.0241 - acc: 0.4935 - val_loss: 0.0391 - val_acc: 0.5584\n",
            "Epoch 38/200\n",
            " - 0s - loss: 0.0248 - acc: 0.4869 - val_loss: 0.0384 - val_acc: 0.5584\n",
            "Epoch 39/200\n",
            " - 0s - loss: 0.0247 - acc: 0.4542 - val_loss: 0.0378 - val_acc: 0.5584\n",
            "Epoch 40/200\n",
            " - 0s - loss: 0.0228 - acc: 0.5327 - val_loss: 0.0373 - val_acc: 0.5714\n",
            "\n",
            "Epoch 00040: saving model to /content/drive/Python/Models/forecast_40.hdf5\n",
            "Epoch 41/200\n",
            " - 0s - loss: 0.0240 - acc: 0.5000 - val_loss: 0.0362 - val_acc: 0.5714\n",
            "Epoch 42/200\n",
            " - 0s - loss: 0.0234 - acc: 0.5196 - val_loss: 0.0353 - val_acc: 0.5584\n",
            "Epoch 43/200\n",
            " - 0s - loss: 0.0233 - acc: 0.5000 - val_loss: 0.0350 - val_acc: 0.5714\n",
            "Epoch 44/200\n",
            " - 0s - loss: 0.0231 - acc: 0.5556 - val_loss: 0.0337 - val_acc: 0.5714\n",
            "Epoch 45/200\n",
            " - 0s - loss: 0.0219 - acc: 0.5784 - val_loss: 0.0332 - val_acc: 0.5974\n",
            "Epoch 46/200\n",
            " - 0s - loss: 0.0222 - acc: 0.5784 - val_loss: 0.0327 - val_acc: 0.6494\n",
            "Epoch 47/200\n",
            " - 0s - loss: 0.0211 - acc: 0.5850 - val_loss: 0.0321 - val_acc: 0.6104\n",
            "Epoch 48/200\n",
            " - 0s - loss: 0.0217 - acc: 0.5686 - val_loss: 0.0311 - val_acc: 0.5584\n",
            "Epoch 49/200\n",
            " - 0s - loss: 0.0209 - acc: 0.5850 - val_loss: 0.0303 - val_acc: 0.5584\n",
            "Epoch 50/200\n",
            " - 0s - loss: 0.0205 - acc: 0.6111 - val_loss: 0.0293 - val_acc: 0.5584\n",
            "\n",
            "Epoch 00050: saving model to /content/drive/Python/Models/forecast_50.hdf5\n",
            "Epoch 51/200\n",
            " - 0s - loss: 0.0195 - acc: 0.5719 - val_loss: 0.0284 - val_acc: 0.5584\n",
            "Epoch 52/200\n",
            " - 0s - loss: 0.0196 - acc: 0.5654 - val_loss: 0.0272 - val_acc: 0.5714\n",
            "Epoch 53/200\n",
            " - 0s - loss: 0.0196 - acc: 0.5980 - val_loss: 0.0261 - val_acc: 0.6104\n",
            "Epoch 54/200\n",
            " - 0s - loss: 0.0184 - acc: 0.5850 - val_loss: 0.0252 - val_acc: 0.6104\n",
            "Epoch 55/200\n",
            " - 0s - loss: 0.0190 - acc: 0.6111 - val_loss: 0.0241 - val_acc: 0.5974\n",
            "Epoch 56/200\n",
            " - 0s - loss: 0.0189 - acc: 0.5980 - val_loss: 0.0231 - val_acc: 0.5974\n",
            "Epoch 57/200\n",
            " - 0s - loss: 0.0181 - acc: 0.6438 - val_loss: 0.0221 - val_acc: 0.5974\n"
          ],
          "name": "stdout"
        },
        {
          "output_type": "stream",
          "text": [
            "Epoch 58/200\n",
            " - 0s - loss: 0.0170 - acc: 0.6405 - val_loss: 0.0218 - val_acc: 0.6104\n",
            "Epoch 59/200\n",
            " - 0s - loss: 0.0168 - acc: 0.6765 - val_loss: 0.0209 - val_acc: 0.6234\n",
            "Epoch 60/200\n",
            " - 0s - loss: 0.0168 - acc: 0.6634 - val_loss: 0.0195 - val_acc: 0.5974\n",
            "\n",
            "Epoch 00060: saving model to /content/drive/Python/Models/forecast_60.hdf5\n",
            "Epoch 61/200\n",
            " - 0s - loss: 0.0164 - acc: 0.6438 - val_loss: 0.0192 - val_acc: 0.5584\n",
            "Epoch 62/200\n",
            " - 0s - loss: 0.0165 - acc: 0.6242 - val_loss: 0.0197 - val_acc: 0.6234\n",
            "Epoch 63/200\n",
            " - 0s - loss: 0.0165 - acc: 0.6993 - val_loss: 0.0197 - val_acc: 0.5974\n",
            "Epoch 64/200\n",
            " - 0s - loss: 0.0152 - acc: 0.6601 - val_loss: 0.0186 - val_acc: 0.5974\n",
            "Epoch 65/200\n",
            " - 0s - loss: 0.0155 - acc: 0.6078 - val_loss: 0.0197 - val_acc: 0.5844\n",
            "Epoch 66/200\n",
            " - 0s - loss: 0.0167 - acc: 0.6405 - val_loss: 0.0212 - val_acc: 0.6234\n",
            "Epoch 67/200\n",
            " - 0s - loss: 0.0154 - acc: 0.6536 - val_loss: 0.0202 - val_acc: 0.6494\n",
            "Epoch 68/200\n",
            " - 0s - loss: 0.0166 - acc: 0.5980 - val_loss: 0.0189 - val_acc: 0.5974\n",
            "Epoch 69/200\n",
            " - 0s - loss: 0.0157 - acc: 0.5882 - val_loss: 0.0188 - val_acc: 0.5714\n",
            "Epoch 70/200\n",
            " - 0s - loss: 0.0143 - acc: 0.6634 - val_loss: 0.0192 - val_acc: 0.6364\n",
            "\n",
            "Epoch 00070: saving model to /content/drive/Python/Models/forecast_70.hdf5\n",
            "Epoch 71/200\n",
            " - 0s - loss: 0.0152 - acc: 0.6830 - val_loss: 0.0198 - val_acc: 0.6104\n",
            "Epoch 72/200\n",
            " - 0s - loss: 0.0151 - acc: 0.6830 - val_loss: 0.0188 - val_acc: 0.6104\n",
            "Epoch 73/200\n",
            " - 0s - loss: 0.0151 - acc: 0.6536 - val_loss: 0.0173 - val_acc: 0.6364\n",
            "Epoch 74/200\n",
            " - 0s - loss: 0.0153 - acc: 0.6275 - val_loss: 0.0171 - val_acc: 0.5844\n",
            "Epoch 75/200\n",
            " - 0s - loss: 0.0144 - acc: 0.6830 - val_loss: 0.0170 - val_acc: 0.6104\n",
            "Epoch 76/200\n",
            " - 0s - loss: 0.0147 - acc: 0.6961 - val_loss: 0.0175 - val_acc: 0.6104\n",
            "Epoch 77/200\n",
            " - 0s - loss: 0.0143 - acc: 0.7124 - val_loss: 0.0174 - val_acc: 0.6104\n",
            "Epoch 78/200\n",
            " - 0s - loss: 0.0148 - acc: 0.6732 - val_loss: 0.0167 - val_acc: 0.6104\n",
            "Epoch 79/200\n",
            " - 0s - loss: 0.0152 - acc: 0.6536 - val_loss: 0.0160 - val_acc: 0.6104\n",
            "Epoch 80/200\n",
            " - 0s - loss: 0.0130 - acc: 0.6993 - val_loss: 0.0157 - val_acc: 0.6234\n",
            "\n",
            "Epoch 00080: saving model to /content/drive/Python/Models/forecast_80.hdf5\n",
            "Epoch 81/200\n",
            " - 0s - loss: 0.0127 - acc: 0.7190 - val_loss: 0.0161 - val_acc: 0.6104\n",
            "Epoch 82/200\n",
            " - 0s - loss: 0.0132 - acc: 0.7516 - val_loss: 0.0165 - val_acc: 0.6104\n",
            "Epoch 83/200\n",
            " - 0s - loss: 0.0150 - acc: 0.6732 - val_loss: 0.0159 - val_acc: 0.6364\n",
            "Epoch 84/200\n",
            " - 0s - loss: 0.0144 - acc: 0.6732 - val_loss: 0.0154 - val_acc: 0.6494\n",
            "Epoch 85/200\n",
            " - 0s - loss: 0.0147 - acc: 0.6732 - val_loss: 0.0162 - val_acc: 0.6104\n",
            "Epoch 86/200\n",
            " - 0s - loss: 0.0142 - acc: 0.6863 - val_loss: 0.0170 - val_acc: 0.6104\n",
            "Epoch 87/200\n",
            " - 0s - loss: 0.0139 - acc: 0.7222 - val_loss: 0.0168 - val_acc: 0.6104\n",
            "Epoch 88/200\n",
            " - 0s - loss: 0.0133 - acc: 0.6895 - val_loss: 0.0166 - val_acc: 0.6104\n",
            "Epoch 89/200\n",
            " - 0s - loss: 0.0142 - acc: 0.6830 - val_loss: 0.0164 - val_acc: 0.6104\n"
          ],
          "name": "stdout"
        },
        {
          "output_type": "stream",
          "text": [
            "Epoch 90/200\n",
            " - 0s - loss: 0.0127 - acc: 0.7582 - val_loss: 0.0154 - val_acc: 0.5844\n",
            "\n",
            "Epoch 00090: saving model to /content/drive/Python/Models/forecast_90.hdf5\n",
            "Epoch 91/200\n",
            " - 0s - loss: 0.0125 - acc: 0.6993 - val_loss: 0.0147 - val_acc: 0.6104\n",
            "Epoch 92/200\n",
            " - 0s - loss: 0.0126 - acc: 0.7451 - val_loss: 0.0145 - val_acc: 0.6104\n",
            "Epoch 93/200\n",
            " - 0s - loss: 0.0120 - acc: 0.7582 - val_loss: 0.0141 - val_acc: 0.6104\n",
            "Epoch 94/200\n",
            " - 0s - loss: 0.0120 - acc: 0.7484 - val_loss: 0.0145 - val_acc: 0.6104\n",
            "Epoch 95/200\n",
            " - 0s - loss: 0.0122 - acc: 0.7255 - val_loss: 0.0161 - val_acc: 0.6104\n",
            "Epoch 96/200\n",
            " - 0s - loss: 0.0129 - acc: 0.7190 - val_loss: 0.0148 - val_acc: 0.6104\n",
            "Epoch 97/200\n",
            " - 0s - loss: 0.0130 - acc: 0.7288 - val_loss: 0.0134 - val_acc: 0.5844\n",
            "Epoch 98/200\n",
            " - 0s - loss: 0.0125 - acc: 0.7484 - val_loss: 0.0131 - val_acc: 0.5844\n",
            "Epoch 99/200\n",
            " - 0s - loss: 0.0122 - acc: 0.7092 - val_loss: 0.0133 - val_acc: 0.6104\n",
            "Epoch 100/200\n",
            " - 0s - loss: 0.0123 - acc: 0.6797 - val_loss: 0.0143 - val_acc: 0.6104\n",
            "\n",
            "Epoch 00100: saving model to /content/drive/Python/Models/forecast_100.hdf5\n",
            "Epoch 101/200\n",
            " - 0s - loss: 0.0128 - acc: 0.7484 - val_loss: 0.0148 - val_acc: 0.6104\n",
            "Epoch 102/200\n",
            " - 0s - loss: 0.0112 - acc: 0.7680 - val_loss: 0.0147 - val_acc: 0.6104\n",
            "Epoch 103/200\n",
            " - 0s - loss: 0.0125 - acc: 0.7320 - val_loss: 0.0147 - val_acc: 0.6104\n",
            "Epoch 104/200\n",
            " - 0s - loss: 0.0125 - acc: 0.7484 - val_loss: 0.0148 - val_acc: 0.5974\n",
            "Epoch 105/200\n",
            " - 0s - loss: 0.0111 - acc: 0.7712 - val_loss: 0.0138 - val_acc: 0.6104\n",
            "Epoch 106/200\n",
            " - 0s - loss: 0.0123 - acc: 0.7778 - val_loss: 0.0137 - val_acc: 0.5844\n",
            "Epoch 107/200\n",
            " - 0s - loss: 0.0110 - acc: 0.7484 - val_loss: 0.0147 - val_acc: 0.5844\n",
            "Epoch 108/200\n",
            " - 0s - loss: 0.0108 - acc: 0.7843 - val_loss: 0.0136 - val_acc: 0.5844\n",
            "Epoch 109/200\n",
            " - 0s - loss: 0.0120 - acc: 0.7451 - val_loss: 0.0132 - val_acc: 0.5844\n",
            "Epoch 110/200\n",
            " - 0s - loss: 0.0112 - acc: 0.7614 - val_loss: 0.0123 - val_acc: 0.5844\n",
            "\n",
            "Epoch 00110: saving model to /content/drive/Python/Models/forecast_110.hdf5\n",
            "Epoch 111/200\n",
            " - 0s - loss: 0.0112 - acc: 0.7712 - val_loss: 0.0124 - val_acc: 0.5844\n",
            "Epoch 112/200\n",
            " - 0s - loss: 0.0109 - acc: 0.7712 - val_loss: 0.0131 - val_acc: 0.6104\n",
            "Epoch 113/200\n",
            " - 0s - loss: 0.0114 - acc: 0.7484 - val_loss: 0.0138 - val_acc: 0.5844\n",
            "Epoch 114/200\n",
            " - 0s - loss: 0.0096 - acc: 0.7941 - val_loss: 0.0136 - val_acc: 0.5844\n",
            "Epoch 115/200\n",
            " - 0s - loss: 0.0111 - acc: 0.7843 - val_loss: 0.0133 - val_acc: 0.6104\n",
            "Epoch 116/200\n",
            " - 0s - loss: 0.0105 - acc: 0.7745 - val_loss: 0.0127 - val_acc: 0.6104\n",
            "Epoch 117/200\n",
            " - 0s - loss: 0.0112 - acc: 0.7778 - val_loss: 0.0123 - val_acc: 0.5974\n",
            "Epoch 118/200\n",
            " - 0s - loss: 0.0099 - acc: 0.7941 - val_loss: 0.0125 - val_acc: 0.6234\n",
            "Epoch 119/200\n",
            " - 0s - loss: 0.0105 - acc: 0.7516 - val_loss: 0.0127 - val_acc: 0.6234\n",
            "Epoch 120/200\n",
            " - 0s - loss: 0.0106 - acc: 0.7614 - val_loss: 0.0133 - val_acc: 0.6364\n",
            "\n",
            "Epoch 00120: saving model to /content/drive/Python/Models/forecast_120.hdf5\n"
          ],
          "name": "stdout"
        },
        {
          "output_type": "stream",
          "text": [
            "Epoch 121/200\n",
            " - 0s - loss: 0.0106 - acc: 0.8007 - val_loss: 0.0130 - val_acc: 0.6364\n",
            "Epoch 122/200\n",
            " - 0s - loss: 0.0102 - acc: 0.7810 - val_loss: 0.0123 - val_acc: 0.6364\n",
            "Epoch 123/200\n",
            " - 0s - loss: 0.0102 - acc: 0.7941 - val_loss: 0.0120 - val_acc: 0.6104\n",
            "Epoch 124/200\n",
            " - 0s - loss: 0.0103 - acc: 0.7876 - val_loss: 0.0123 - val_acc: 0.6104\n",
            "Epoch 125/200\n",
            " - 0s - loss: 0.0103 - acc: 0.8170 - val_loss: 0.0125 - val_acc: 0.6104\n",
            "Epoch 126/200\n",
            " - 0s - loss: 0.0100 - acc: 0.8301 - val_loss: 0.0116 - val_acc: 0.5844\n",
            "Epoch 127/200\n",
            " - 0s - loss: 0.0106 - acc: 0.7516 - val_loss: 0.0112 - val_acc: 0.5974\n",
            "Epoch 128/200\n",
            " - 0s - loss: 0.0099 - acc: 0.7974 - val_loss: 0.0113 - val_acc: 0.6234\n",
            "Epoch 129/200\n",
            " - 0s - loss: 0.0102 - acc: 0.8039 - val_loss: 0.0115 - val_acc: 0.6494\n",
            "Epoch 130/200\n",
            " - 0s - loss: 0.0092 - acc: 0.8235 - val_loss: 0.0117 - val_acc: 0.6883\n",
            "\n",
            "Epoch 00130: saving model to /content/drive/Python/Models/forecast_130.hdf5\n",
            "Epoch 131/200\n",
            " - 0s - loss: 0.0088 - acc: 0.8235 - val_loss: 0.0123 - val_acc: 0.6623\n",
            "Epoch 132/200\n",
            " - 0s - loss: 0.0094 - acc: 0.7941 - val_loss: 0.0117 - val_acc: 0.6623\n",
            "Epoch 133/200\n",
            " - 0s - loss: 0.0091 - acc: 0.7941 - val_loss: 0.0113 - val_acc: 0.6623\n",
            "Epoch 134/200\n",
            " - 0s - loss: 0.0107 - acc: 0.7516 - val_loss: 0.0117 - val_acc: 0.6364\n",
            "Epoch 135/200\n",
            " - 0s - loss: 0.0097 - acc: 0.7908 - val_loss: 0.0116 - val_acc: 0.6364\n",
            "Epoch 136/200\n",
            " - 0s - loss: 0.0095 - acc: 0.8268 - val_loss: 0.0116 - val_acc: 0.6364\n",
            "Epoch 137/200\n",
            " - 0s - loss: 0.0097 - acc: 0.7908 - val_loss: 0.0126 - val_acc: 0.6364\n",
            "Epoch 138/200\n",
            " - 0s - loss: 0.0101 - acc: 0.7908 - val_loss: 0.0117 - val_acc: 0.6364\n",
            "Epoch 139/200\n",
            " - 0s - loss: 0.0102 - acc: 0.7549 - val_loss: 0.0108 - val_acc: 0.6623\n",
            "Epoch 140/200\n",
            " - 0s - loss: 0.0097 - acc: 0.7516 - val_loss: 0.0115 - val_acc: 0.6623\n",
            "\n",
            "Epoch 00140: saving model to /content/drive/Python/Models/forecast_140.hdf5\n",
            "Epoch 141/200\n",
            " - 0s - loss: 0.0090 - acc: 0.8203 - val_loss: 0.0118 - val_acc: 0.6364\n",
            "Epoch 142/200\n",
            " - 0s - loss: 0.0092 - acc: 0.7843 - val_loss: 0.0117 - val_acc: 0.6364\n",
            "Epoch 143/200\n",
            " - 0s - loss: 0.0094 - acc: 0.8007 - val_loss: 0.0109 - val_acc: 0.6364\n",
            "Epoch 144/200\n",
            " - 0s - loss: 0.0083 - acc: 0.8105 - val_loss: 0.0110 - val_acc: 0.6364\n",
            "Epoch 145/200\n",
            " - 0s - loss: 0.0093 - acc: 0.8039 - val_loss: 0.0112 - val_acc: 0.6623\n",
            "Epoch 146/200\n",
            " - 0s - loss: 0.0090 - acc: 0.8235 - val_loss: 0.0109 - val_acc: 0.6623\n",
            "Epoch 147/200\n",
            " - 0s - loss: 0.0085 - acc: 0.7941 - val_loss: 0.0103 - val_acc: 0.6364\n",
            "Epoch 148/200\n",
            " - 0s - loss: 0.0087 - acc: 0.8203 - val_loss: 0.0102 - val_acc: 0.6364\n",
            "Epoch 149/200\n",
            " - 0s - loss: 0.0080 - acc: 0.8203 - val_loss: 0.0103 - val_acc: 0.6494\n",
            "Epoch 150/200\n",
            " - 0s - loss: 0.0083 - acc: 0.8137 - val_loss: 0.0102 - val_acc: 0.6494\n",
            "\n",
            "Epoch 00150: saving model to /content/drive/Python/Models/forecast_150.hdf5\n",
            "Epoch 151/200\n",
            " - 0s - loss: 0.0083 - acc: 0.8497 - val_loss: 0.0104 - val_acc: 0.6494\n",
            "Epoch 152/200\n",
            " - 0s - loss: 0.0084 - acc: 0.8235 - val_loss: 0.0109 - val_acc: 0.6494\n"
          ],
          "name": "stdout"
        },
        {
          "output_type": "stream",
          "text": [
            "Epoch 153/200\n",
            " - 0s - loss: 0.0082 - acc: 0.8268 - val_loss: 0.0111 - val_acc: 0.6494\n",
            "Epoch 154/200\n",
            " - 0s - loss: 0.0090 - acc: 0.8039 - val_loss: 0.0109 - val_acc: 0.6494\n",
            "Epoch 155/200\n",
            " - 0s - loss: 0.0092 - acc: 0.7941 - val_loss: 0.0102 - val_acc: 0.6494\n",
            "Epoch 156/200\n",
            " - 0s - loss: 0.0086 - acc: 0.8366 - val_loss: 0.0100 - val_acc: 0.6494\n",
            "Epoch 157/200\n",
            " - 0s - loss: 0.0087 - acc: 0.8301 - val_loss: 0.0105 - val_acc: 0.6753\n",
            "Epoch 158/200\n",
            " - 0s - loss: 0.0079 - acc: 0.8235 - val_loss: 0.0109 - val_acc: 0.6623\n",
            "Epoch 159/200\n",
            " - 0s - loss: 0.0082 - acc: 0.8497 - val_loss: 0.0104 - val_acc: 0.6364\n",
            "Epoch 160/200\n",
            " - 0s - loss: 0.0079 - acc: 0.8333 - val_loss: 0.0103 - val_acc: 0.6364\n",
            "\n",
            "Epoch 00160: saving model to /content/drive/Python/Models/forecast_160.hdf5\n",
            "Epoch 161/200\n",
            " - 0s - loss: 0.0077 - acc: 0.8366 - val_loss: 0.0108 - val_acc: 0.6364\n",
            "Epoch 162/200\n",
            " - 0s - loss: 0.0085 - acc: 0.8464 - val_loss: 0.0109 - val_acc: 0.6364\n",
            "Epoch 163/200\n",
            " - 0s - loss: 0.0089 - acc: 0.7974 - val_loss: 0.0105 - val_acc: 0.6494\n",
            "Epoch 164/200\n",
            " - 0s - loss: 0.0086 - acc: 0.8203 - val_loss: 0.0099 - val_acc: 0.6494\n",
            "Epoch 165/200\n",
            " - 0s - loss: 0.0078 - acc: 0.8497 - val_loss: 0.0100 - val_acc: 0.6753\n",
            "Epoch 166/200\n",
            " - 0s - loss: 0.0074 - acc: 0.8235 - val_loss: 0.0109 - val_acc: 0.6623\n",
            "Epoch 167/200\n",
            " - 0s - loss: 0.0085 - acc: 0.7876 - val_loss: 0.0116 - val_acc: 0.6883\n",
            "Epoch 168/200\n",
            " - 0s - loss: 0.0074 - acc: 0.8268 - val_loss: 0.0109 - val_acc: 0.6623\n",
            "Epoch 169/200\n",
            " - 0s - loss: 0.0075 - acc: 0.8431 - val_loss: 0.0102 - val_acc: 0.6623\n",
            "Epoch 170/200\n",
            " - 0s - loss: 0.0078 - acc: 0.8137 - val_loss: 0.0098 - val_acc: 0.6364\n",
            "\n",
            "Epoch 00170: saving model to /content/drive/Python/Models/forecast_170.hdf5\n",
            "Epoch 171/200\n",
            " - 0s - loss: 0.0072 - acc: 0.8562 - val_loss: 0.0101 - val_acc: 0.6364\n",
            "Epoch 172/200\n",
            " - 0s - loss: 0.0079 - acc: 0.8105 - val_loss: 0.0102 - val_acc: 0.6364\n",
            "Epoch 173/200\n",
            " - 0s - loss: 0.0072 - acc: 0.8529 - val_loss: 0.0098 - val_acc: 0.6364\n",
            "Epoch 174/200\n",
            " - 0s - loss: 0.0076 - acc: 0.8366 - val_loss: 0.0097 - val_acc: 0.6623\n",
            "Epoch 175/200\n",
            " - 0s - loss: 0.0078 - acc: 0.8268 - val_loss: 0.0104 - val_acc: 0.6623\n",
            "Epoch 176/200\n",
            " - 0s - loss: 0.0070 - acc: 0.8529 - val_loss: 0.0111 - val_acc: 0.6623\n",
            "Epoch 177/200\n",
            " - 0s - loss: 0.0073 - acc: 0.8333 - val_loss: 0.0107 - val_acc: 0.6623\n",
            "Epoch 178/200\n",
            " - 0s - loss: 0.0074 - acc: 0.8497 - val_loss: 0.0099 - val_acc: 0.6623\n",
            "Epoch 179/200\n",
            " - 0s - loss: 0.0075 - acc: 0.8529 - val_loss: 0.0096 - val_acc: 0.6623\n",
            "Epoch 180/200\n",
            " - 0s - loss: 0.0059 - acc: 0.8268 - val_loss: 0.0096 - val_acc: 0.6623\n",
            "\n",
            "Epoch 00180: saving model to /content/drive/Python/Models/forecast_180.hdf5\n",
            "Epoch 181/200\n",
            " - 0s - loss: 0.0068 - acc: 0.8235 - val_loss: 0.0098 - val_acc: 0.6623\n",
            "Epoch 182/200\n",
            " - 0s - loss: 0.0076 - acc: 0.8366 - val_loss: 0.0096 - val_acc: 0.6104\n",
            "Epoch 183/200\n",
            " - 0s - loss: 0.0068 - acc: 0.8072 - val_loss: 0.0096 - val_acc: 0.6494\n",
            "Epoch 184/200\n"
          ],
          "name": "stdout"
        },
        {
          "output_type": "stream",
          "text": [
            " - 0s - loss: 0.0065 - acc: 0.8627 - val_loss: 0.0100 - val_acc: 0.6623\n",
            "Epoch 185/200\n",
            " - 0s - loss: 0.0070 - acc: 0.8366 - val_loss: 0.0102 - val_acc: 0.6364\n",
            "Epoch 186/200\n",
            " - 0s - loss: 0.0078 - acc: 0.8301 - val_loss: 0.0098 - val_acc: 0.6623\n",
            "Epoch 187/200\n",
            " - 0s - loss: 0.0074 - acc: 0.8464 - val_loss: 0.0103 - val_acc: 0.6104\n",
            "Epoch 188/200\n",
            " - 0s - loss: 0.0076 - acc: 0.8595 - val_loss: 0.0109 - val_acc: 0.6364\n",
            "Epoch 189/200\n",
            " - 0s - loss: 0.0062 - acc: 0.8627 - val_loss: 0.0110 - val_acc: 0.5974\n",
            "Epoch 190/200\n",
            " - 0s - loss: 0.0059 - acc: 0.8203 - val_loss: 0.0107 - val_acc: 0.5844\n",
            "\n",
            "Epoch 00190: saving model to /content/drive/Python/Models/forecast_190.hdf5\n",
            "Epoch 191/200\n",
            " - 0s - loss: 0.0064 - acc: 0.8170 - val_loss: 0.0105 - val_acc: 0.5974\n",
            "Epoch 192/200\n",
            " - 0s - loss: 0.0070 - acc: 0.8268 - val_loss: 0.0105 - val_acc: 0.6623\n",
            "Epoch 193/200\n",
            " - 0s - loss: 0.0065 - acc: 0.8464 - val_loss: 0.0103 - val_acc: 0.6623\n",
            "Epoch 194/200\n",
            " - 0s - loss: 0.0060 - acc: 0.8301 - val_loss: 0.0103 - val_acc: 0.6623\n",
            "Epoch 195/200\n",
            " - 0s - loss: 0.0066 - acc: 0.8529 - val_loss: 0.0102 - val_acc: 0.6623\n",
            "Epoch 196/200\n",
            " - 0s - loss: 0.0067 - acc: 0.8333 - val_loss: 0.0100 - val_acc: 0.6623\n",
            "Epoch 197/200\n",
            " - 0s - loss: 0.0069 - acc: 0.8464 - val_loss: 0.0099 - val_acc: 0.6623\n",
            "Epoch 198/200\n",
            " - 0s - loss: 0.0061 - acc: 0.8725 - val_loss: 0.0098 - val_acc: 0.6623\n",
            "Epoch 199/200\n",
            " - 0s - loss: 0.0058 - acc: 0.8399 - val_loss: 0.0098 - val_acc: 0.6623\n",
            "Epoch 200/200\n",
            " - 0s - loss: 0.0066 - acc: 0.8072 - val_loss: 0.0100 - val_acc: 0.6623\n",
            "\n",
            "Epoch 00200: saving model to /content/drive/Python/Models/forecast_200.hdf5\n"
          ],
          "name": "stdout"
        },
        {
          "output_type": "execute_result",
          "data": {
            "text/plain": [
              "\"\\nfor i in range(len(Output_array)):\\n    #print 'Train_input', Input_array[i][0].shape\\n    #print  'Train_output', Output_array[i][0].shape\\n    history = model.fit(Input_array[i][0], Output_array[i][0], epochs=50, batch_size = 16,callbacks=[checkpoint], validation_data=(Input_array[i][1], Output_array[i][1]),verbose=2, shuffle=False)\\n\""
            ]
          },
          "metadata": {
            "tags": []
          },
          "execution_count": 275
        }
      ]
    },
    {
      "metadata": {
        "id": "UGv0xfSd-M6n",
        "colab_type": "code",
        "outputId": "aa0b83b8-0a31-4cad-daa7-c7203b539aba",
        "colab": {
          "base_uri": "https://localhost:8080/",
          "height": 536
        }
      },
      "cell_type": "code",
      "source": [
        "# plot history\n",
        "pyplot.plot(history.history['loss'], label='train_loss')\n",
        "pyplot.plot(history.history['val_loss'], label='test_loss')\n",
        "pyplot.plot(history.history['acc'], label='train_acc')\n",
        "pyplot.plot(history.history['val_acc'], label='test_acc')\n",
        "\n",
        "pyplot.rcParams[\"figure.figsize\"] = [16, 9]\n",
        "pyplot.legend()\n",
        "pyplot.show()"
      ],
      "execution_count": 0,
      "outputs": [
        {
          "output_type": "display_data",
          "data": {
            "image/png": "[encoded data removed]",
            "text/plain": [
              "<matplotlib.figure.Figure at 0x7f3dd9676690>"
            ]
          },
          "metadata": {
            "tags": []
          }
        }
      ]
    },
    {
      "metadata": {
        "id": "yF0_VheFBruI",
        "colab_type": "text"
      },
      "cell_type": "markdown",
      "source": [
        "## Predict with model"
      ]
    },
    {
      "metadata": {
        "id": "lOJW21kZ1wKv",
        "colab_type": "text"
      },
      "cell_type": "markdown",
      "source": [
        "### Data reparation for Predictions"
      ]
    },
    {
      "metadata": {
        "id": "V6bgm1ksgRwS",
        "colab_type": "code",
        "outputId": "8e459a5a-95dc-4508-9a99-cc02ba37325e",
        "colab": {
          "base_uri": "https://localhost:8080/",
          "height": 34
        }
      },
      "cell_type": "code",
      "source": [
        "predict_vals = predict_in_arr\n",
        "\n",
        "\n",
        "\n",
        "yhat = model.predict(predict_vals)\n",
        "\n",
        "print yhat.shape\n",
        "\n",
        "\n",
        "\n",
        "final = yhat[:,-1]\n",
        "\n",
        "write_data = read_csv('/content/drive/Python/yds_test2018.csv', header=0, index_col=0)\n",
        "\n",
        "write_data['Sales']  = final\n",
        "\n",
        "\n",
        "\n",
        "write_data.to_csv('/content/drive/Python/results.csv')\n",
        " "
      ],
      "execution_count": 0,
      "outputs": [
        {
          "output_type": "stream",
          "text": [
            "(105, 6)\n"
          ],
          "name": "stdout"
        }
      ]
    },
    {
      "metadata": {
        "id": "SE0y9OWuZH4k",
        "colab_type": "code",
        "colab": {}
      },
      "cell_type": "code",
      "source": [
        "!rm drive/Python/Models/forecast*.hdf5"
      ],
      "execution_count": 0,
      "outputs": []
    }
  ]
}